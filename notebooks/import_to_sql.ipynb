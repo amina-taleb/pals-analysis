{
 "cells": [
  {
   "cell_type": "code",
   "execution_count": 5,
   "id": "d55f5784-6aea-4014-9b28-fee8e8d69a6f",
   "metadata": {},
   "outputs": [
    {
     "name": "stdout",
     "output_type": "stream",
     "text": [
      "Note: you may need to restart the kernel to use updated packages.\n"
     ]
    },
    {
     "name": "stderr",
     "output_type": "stream",
     "text": [
      "ERROR: Invalid requirement: 'mysql-connector,': Expected end or semicolon (after name and no valid version specifier)\n",
      "    mysql-connector,\n",
      "                   ^\n"
     ]
    }
   ],
   "source": [
    "pip install mysql-connector, sqlalchemy"
   ]
  },
  {
   "cell_type": "code",
   "execution_count": 7,
   "id": "6b98cae3-8cd9-4a27-88ad-75c5e2cf59ae",
   "metadata": {},
   "outputs": [
    {
     "name": "stdout",
     "output_type": "stream",
     "text": [
      "Collecting mysql-connector-python\n",
      "  Downloading mysql_connector_python-9.3.0-cp312-cp312-win_amd64.whl.metadata (7.7 kB)\n",
      "Downloading mysql_connector_python-9.3.0-cp312-cp312-win_amd64.whl (16.4 MB)\n",
      "   ---------------------------------------- 0.0/16.4 MB ? eta -:--:--\n",
      "   ---------------------------------------- 0.0/16.4 MB ? eta -:--:--\n",
      "    --------------------------------------- 0.3/16.4 MB ? eta -:--:--\n",
      "   - -------------------------------------- 0.5/16.4 MB 932.9 kB/s eta 0:00:17\n",
      "   - -------------------------------------- 0.8/16.4 MB 987.4 kB/s eta 0:00:16\n",
      "   -- ------------------------------------- 1.0/16.4 MB 1.2 MB/s eta 0:00:14\n",
      "   --- ------------------------------------ 1.3/16.4 MB 1.3 MB/s eta 0:00:12\n",
      "   --- ------------------------------------ 1.6/16.4 MB 1.3 MB/s eta 0:00:12\n",
      "   ----- ---------------------------------- 2.1/16.4 MB 1.4 MB/s eta 0:00:11\n",
      "   ----- ---------------------------------- 2.4/16.4 MB 1.4 MB/s eta 0:00:11\n",
      "   ------ --------------------------------- 2.6/16.4 MB 1.4 MB/s eta 0:00:10\n",
      "   ------- -------------------------------- 2.9/16.4 MB 1.3 MB/s eta 0:00:11\n",
      "   -------- ------------------------------- 3.4/16.4 MB 1.4 MB/s eta 0:00:10\n",
      "   -------- ------------------------------- 3.7/16.4 MB 1.5 MB/s eta 0:00:09\n",
      "   ---------- ----------------------------- 4.2/16.4 MB 1.5 MB/s eta 0:00:09\n",
      "   ---------- ----------------------------- 4.5/16.4 MB 1.5 MB/s eta 0:00:09\n",
      "   ----------- ---------------------------- 4.7/16.4 MB 1.5 MB/s eta 0:00:08\n",
      "   ------------ --------------------------- 5.0/16.4 MB 1.5 MB/s eta 0:00:08\n",
      "   ------------ --------------------------- 5.2/16.4 MB 1.5 MB/s eta 0:00:08\n",
      "   -------------- ------------------------- 5.8/16.4 MB 1.5 MB/s eta 0:00:08\n",
      "   -------------- ------------------------- 6.0/16.4 MB 1.5 MB/s eta 0:00:07\n",
      "   ---------------- ----------------------- 6.6/16.4 MB 1.5 MB/s eta 0:00:07\n",
      "   ---------------- ----------------------- 6.8/16.4 MB 1.6 MB/s eta 0:00:07\n",
      "   ----------------- ---------------------- 7.3/16.4 MB 1.6 MB/s eta 0:00:06\n",
      "   ------------------ --------------------- 7.6/16.4 MB 1.6 MB/s eta 0:00:06\n",
      "   ------------------- -------------------- 8.1/16.4 MB 1.6 MB/s eta 0:00:06\n",
      "   --------------------- ------------------ 8.7/16.4 MB 1.6 MB/s eta 0:00:05\n",
      "   ---------------------- ----------------- 9.2/16.4 MB 1.7 MB/s eta 0:00:05\n",
      "   ----------------------- ---------------- 9.7/16.4 MB 1.7 MB/s eta 0:00:04\n",
      "   ------------------------ --------------- 10.2/16.4 MB 1.7 MB/s eta 0:00:04\n",
      "   -------------------------- ------------- 10.7/16.4 MB 1.8 MB/s eta 0:00:04\n",
      "   ---------------------------- ----------- 11.5/16.4 MB 1.8 MB/s eta 0:00:03\n",
      "   ---------------------------- ----------- 11.8/16.4 MB 1.8 MB/s eta 0:00:03\n",
      "   ------------------------------ --------- 12.3/16.4 MB 1.8 MB/s eta 0:00:03\n",
      "   ------------------------------- -------- 12.8/16.4 MB 1.8 MB/s eta 0:00:02\n",
      "   -------------------------------- ------- 13.4/16.4 MB 1.9 MB/s eta 0:00:02\n",
      "   --------------------------------- ------ 13.9/16.4 MB 1.9 MB/s eta 0:00:02\n",
      "   ----------------------------------- ---- 14.4/16.4 MB 1.9 MB/s eta 0:00:02\n",
      "   ----------------------------------- ---- 14.7/16.4 MB 1.9 MB/s eta 0:00:01\n",
      "   ------------------------------------- -- 15.2/16.4 MB 1.9 MB/s eta 0:00:01\n",
      "   -------------------------------------- - 15.7/16.4 MB 1.9 MB/s eta 0:00:01\n",
      "   ---------------------------------------  16.3/16.4 MB 1.9 MB/s eta 0:00:01\n",
      "   ---------------------------------------- 16.4/16.4 MB 1.9 MB/s eta 0:00:00\n",
      "Installing collected packages: mysql-connector-python\n",
      "Successfully installed mysql-connector-python-9.3.0\n",
      "Note: you may need to restart the kernel to use updated packages.\n"
     ]
    }
   ],
   "source": [
    "pip install mysql-connector-python\n"
   ]
  },
  {
   "cell_type": "code",
   "execution_count": 11,
   "id": "d68e7486-9393-4035-a5d5-26015fe1e272",
   "metadata": {},
   "outputs": [
    {
     "name": "stdout",
     "output_type": "stream",
     "text": [
      "✅ Table 'combat_attribute' insérée avec succès.\n",
      "✅ Table 'job_skill' insérée avec succès.\n",
      "✅ Table 'hidden_attribute' insérée avec succès.\n",
      "✅ Table 'refresh_area' insérée avec succès.\n",
      "✅ Table 'ordinary_boss_attribute' insérée avec succès.\n",
      "✅ Table 'tower_boss_attribute' insérée avec succès.\n"
     ]
    }
   ],
   "source": [
    "from sqlalchemy import create_engine \n",
    "import pandas as pd\n",
    "\n",
    "# 🔧 Paramètres de connexion MySQL (modifie-les selon ton environnement)\n",
    "user = \"root\"\n",
    "password = \"root\"\n",
    "host = \"localhost\"\n",
    "database = \"palworld_database\"\n",
    "\n",
    "# 🔌 Connexion à la base MySQL\n",
    "engine = create_engine(f\"mysql+mysqlconnector://{user}:{password}@{host}/{database}\")\n",
    "\n",
    "# 📦 Dictionnaire des fichiers CSV nettoyés\n",
    "tables = {\n",
    "    \"combat_attribute\": \"../data/processed/Cleaned_file03finalv2.csv\",\n",
    "    \"job_skill\": \"../data/processed/Cleaned_file04.csv\",\n",
    "    \"hidden_attribute\": \"../data/processed/Cleaned_file02.csv\",\n",
    "    \"refresh_area\": \"../data/processed/Cleaned_file05.csv\",\n",
    "    \"ordinary_boss_attribute\": \"../data/processed/Cleaned_file01.csv\",\n",
    "    \"tower_boss_attribute\": \"../data/processed/Cleaned_file06finalv3.csv\"\n",
    "}\n",
    "\n",
    "# 🚀 Chargement et insertion dans la base\n",
    "for table_name, file_path in tables.items():\n",
    "    try:\n",
    "        df = pd.read_csv(file_path)\n",
    "        df.to_sql(name=table_name, con=engine, if_exists=\"replace\", index=False)\n",
    "        print(f\"✅ Table '{table_name}' insérée avec succès.\")\n",
    "    except Exception as e:\n",
    "        print(f\"❌ Erreur pour la table '{table_name}': {e}\")\n"
   ]
  },
  {
   "cell_type": "code",
   "execution_count": 15,
   "id": "ccccd3f1-0752-4e52-b1f8-ee88eac31349",
   "metadata": {},
   "outputs": [
    {
     "name": "stdout",
     "output_type": "stream",
     "text": [
      "Requirement already satisfied: streamlit in c:\\users\\yamsq\\anaconda3\\lib\\site-packages (1.37.1)\n",
      "Requirement already satisfied: matplotlib in c:\\users\\yamsq\\anaconda3\\lib\\site-packages (3.9.2)\n",
      "Requirement already satisfied: seaborn in c:\\users\\yamsq\\anaconda3\\lib\\site-packages (0.13.2)\n",
      "Requirement already satisfied: altair<6,>=4.0 in c:\\users\\yamsq\\anaconda3\\lib\\site-packages (from streamlit) (5.0.1)\n",
      "Requirement already satisfied: blinker<2,>=1.0.0 in c:\\users\\yamsq\\anaconda3\\lib\\site-packages (from streamlit) (1.6.2)\n",
      "Requirement already satisfied: cachetools<6,>=4.0 in c:\\users\\yamsq\\anaconda3\\lib\\site-packages (from streamlit) (5.3.3)\n",
      "Requirement already satisfied: click<9,>=7.0 in c:\\users\\yamsq\\anaconda3\\lib\\site-packages (from streamlit) (8.1.7)\n",
      "Requirement already satisfied: numpy<3,>=1.20 in c:\\users\\yamsq\\anaconda3\\lib\\site-packages (from streamlit) (1.26.4)\n",
      "Requirement already satisfied: packaging<25,>=20 in c:\\users\\yamsq\\anaconda3\\lib\\site-packages (from streamlit) (24.1)\n",
      "Requirement already satisfied: pandas<3,>=1.3.0 in c:\\users\\yamsq\\anaconda3\\lib\\site-packages (from streamlit) (2.2.2)\n",
      "Requirement already satisfied: pillow<11,>=7.1.0 in c:\\users\\yamsq\\anaconda3\\lib\\site-packages (from streamlit) (10.4.0)\n",
      "Requirement already satisfied: protobuf<6,>=3.20 in c:\\users\\yamsq\\anaconda3\\lib\\site-packages (from streamlit) (4.25.3)\n",
      "Requirement already satisfied: pyarrow>=7.0 in c:\\users\\yamsq\\anaconda3\\lib\\site-packages (from streamlit) (16.1.0)\n",
      "Requirement already satisfied: requests<3,>=2.27 in c:\\users\\yamsq\\anaconda3\\lib\\site-packages (from streamlit) (2.32.3)\n",
      "Requirement already satisfied: rich<14,>=10.14.0 in c:\\users\\yamsq\\anaconda3\\lib\\site-packages (from streamlit) (13.7.1)\n",
      "Requirement already satisfied: tenacity<9,>=8.1.0 in c:\\users\\yamsq\\anaconda3\\lib\\site-packages (from streamlit) (8.2.3)\n",
      "Requirement already satisfied: toml<2,>=0.10.1 in c:\\users\\yamsq\\anaconda3\\lib\\site-packages (from streamlit) (0.10.2)\n",
      "Requirement already satisfied: typing-extensions<5,>=4.3.0 in c:\\users\\yamsq\\anaconda3\\lib\\site-packages (from streamlit) (4.11.0)\n",
      "Requirement already satisfied: gitpython!=3.1.19,<4,>=3.0.7 in c:\\users\\yamsq\\anaconda3\\lib\\site-packages (from streamlit) (3.1.43)\n",
      "Requirement already satisfied: pydeck<1,>=0.8.0b4 in c:\\users\\yamsq\\anaconda3\\lib\\site-packages (from streamlit) (0.8.0)\n",
      "Requirement already satisfied: tornado<7,>=6.0.3 in c:\\users\\yamsq\\anaconda3\\lib\\site-packages (from streamlit) (6.4.1)\n",
      "Requirement already satisfied: watchdog<5,>=2.1.5 in c:\\users\\yamsq\\anaconda3\\lib\\site-packages (from streamlit) (4.0.1)\n",
      "Requirement already satisfied: contourpy>=1.0.1 in c:\\users\\yamsq\\anaconda3\\lib\\site-packages (from matplotlib) (1.2.0)\n",
      "Requirement already satisfied: cycler>=0.10 in c:\\users\\yamsq\\anaconda3\\lib\\site-packages (from matplotlib) (0.11.0)\n",
      "Requirement already satisfied: fonttools>=4.22.0 in c:\\users\\yamsq\\anaconda3\\lib\\site-packages (from matplotlib) (4.51.0)\n",
      "Requirement already satisfied: kiwisolver>=1.3.1 in c:\\users\\yamsq\\anaconda3\\lib\\site-packages (from matplotlib) (1.4.4)\n",
      "Requirement already satisfied: pyparsing>=2.3.1 in c:\\users\\yamsq\\anaconda3\\lib\\site-packages (from matplotlib) (3.1.2)\n",
      "Requirement already satisfied: python-dateutil>=2.7 in c:\\users\\yamsq\\anaconda3\\lib\\site-packages (from matplotlib) (2.9.0.post0)\n",
      "Requirement already satisfied: jinja2 in c:\\users\\yamsq\\anaconda3\\lib\\site-packages (from altair<6,>=4.0->streamlit) (3.1.4)\n",
      "Requirement already satisfied: jsonschema>=3.0 in c:\\users\\yamsq\\anaconda3\\lib\\site-packages (from altair<6,>=4.0->streamlit) (4.23.0)\n",
      "Requirement already satisfied: toolz in c:\\users\\yamsq\\anaconda3\\lib\\site-packages (from altair<6,>=4.0->streamlit) (0.12.0)\n",
      "Requirement already satisfied: colorama in c:\\users\\yamsq\\anaconda3\\lib\\site-packages (from click<9,>=7.0->streamlit) (0.4.6)\n",
      "Requirement already satisfied: gitdb<5,>=4.0.1 in c:\\users\\yamsq\\anaconda3\\lib\\site-packages (from gitpython!=3.1.19,<4,>=3.0.7->streamlit) (4.0.7)\n",
      "Requirement already satisfied: pytz>=2020.1 in c:\\users\\yamsq\\anaconda3\\lib\\site-packages (from pandas<3,>=1.3.0->streamlit) (2024.1)\n",
      "Requirement already satisfied: tzdata>=2022.7 in c:\\users\\yamsq\\anaconda3\\lib\\site-packages (from pandas<3,>=1.3.0->streamlit) (2023.3)\n",
      "Requirement already satisfied: six>=1.5 in c:\\users\\yamsq\\anaconda3\\lib\\site-packages (from python-dateutil>=2.7->matplotlib) (1.16.0)\n",
      "Requirement already satisfied: charset-normalizer<4,>=2 in c:\\users\\yamsq\\anaconda3\\lib\\site-packages (from requests<3,>=2.27->streamlit) (3.3.2)\n",
      "Requirement already satisfied: idna<4,>=2.5 in c:\\users\\yamsq\\anaconda3\\lib\\site-packages (from requests<3,>=2.27->streamlit) (3.7)\n",
      "Requirement already satisfied: urllib3<3,>=1.21.1 in c:\\users\\yamsq\\anaconda3\\lib\\site-packages (from requests<3,>=2.27->streamlit) (2.2.3)\n",
      "Requirement already satisfied: certifi>=2017.4.17 in c:\\users\\yamsq\\anaconda3\\lib\\site-packages (from requests<3,>=2.27->streamlit) (2025.4.26)\n",
      "Requirement already satisfied: markdown-it-py>=2.2.0 in c:\\users\\yamsq\\anaconda3\\lib\\site-packages (from rich<14,>=10.14.0->streamlit) (2.2.0)\n",
      "Requirement already satisfied: pygments<3.0.0,>=2.13.0 in c:\\users\\yamsq\\anaconda3\\lib\\site-packages (from rich<14,>=10.14.0->streamlit) (2.15.1)\n",
      "Requirement already satisfied: smmap<5,>=3.0.1 in c:\\users\\yamsq\\anaconda3\\lib\\site-packages (from gitdb<5,>=4.0.1->gitpython!=3.1.19,<4,>=3.0.7->streamlit) (4.0.0)\n",
      "Requirement already satisfied: MarkupSafe>=2.0 in c:\\users\\yamsq\\anaconda3\\lib\\site-packages (from jinja2->altair<6,>=4.0->streamlit) (2.1.3)\n",
      "Requirement already satisfied: attrs>=22.2.0 in c:\\users\\yamsq\\anaconda3\\lib\\site-packages (from jsonschema>=3.0->altair<6,>=4.0->streamlit) (23.1.0)\n",
      "Requirement already satisfied: jsonschema-specifications>=2023.03.6 in c:\\users\\yamsq\\anaconda3\\lib\\site-packages (from jsonschema>=3.0->altair<6,>=4.0->streamlit) (2023.7.1)\n",
      "Requirement already satisfied: referencing>=0.28.4 in c:\\users\\yamsq\\anaconda3\\lib\\site-packages (from jsonschema>=3.0->altair<6,>=4.0->streamlit) (0.30.2)\n",
      "Requirement already satisfied: rpds-py>=0.7.1 in c:\\users\\yamsq\\anaconda3\\lib\\site-packages (from jsonschema>=3.0->altair<6,>=4.0->streamlit) (0.10.6)\n",
      "Requirement already satisfied: mdurl~=0.1 in c:\\users\\yamsq\\anaconda3\\lib\\site-packages (from markdown-it-py>=2.2.0->rich<14,>=10.14.0->streamlit) (0.1.0)\n",
      "Note: you may need to restart the kernel to use updated packages.\n"
     ]
    }
   ],
   "source": [
    "pip install streamlit matplotlib seaborn"
   ]
  },
  {
   "cell_type": "code",
   "execution_count": 17,
   "id": "cbfc708a-2bc8-46f4-a358-c26d343a5685",
   "metadata": {},
   "outputs": [
    {
     "name": "stderr",
     "output_type": "stream",
     "text": [
      "2025-06-01 22:53:18.890 \n",
      "  \u001b[33m\u001b[1mWarning:\u001b[0m to view this Streamlit app on a browser, run it with the following\n",
      "  command:\n",
      "\n",
      "    streamlit run C:\\Users\\yamsq\\anaconda3\\Lib\\site-packages\\ipykernel_launcher.py [ARGUMENTS]\n",
      "2025-06-01 22:53:18.920 Session state does not function when running a script without `streamlit run`\n"
     ]
    },
    {
     "data": {
      "text/plain": [
       "False"
      ]
     },
     "execution_count": 17,
     "metadata": {},
     "output_type": "execute_result"
    }
   ],
   "source": [
    "import streamlit as st\n",
    "import pandas as pd\n",
    "from sqlalchemy import create_engine, inspect\n",
    "import seaborn as sns\n",
    "import matplotlib.pyplot as plt\n",
    "\n",
    "# Configuration Streamlit\n",
    "st.set_page_config(page_title=\"MySQL Dashboard Palworld\", layout=\"wide\")\n",
    "\n",
    "# Connexion MySQL\n",
    "@st.cache_resource\n",
    "def get_engine():\n",
    "    user = \"root\"\n",
    "    password = \"root\"\n",
    "    host = \"localhost\"\n",
    "    database = \"palworld_database\"\n",
    "    return create_engine(f\"mysql+mysqlconnector://{user}:{password}@{host}/{database}\")\n",
    "\n",
    "engine = get_engine()\n",
    "inspector = inspect(engine)\n",
    "\n",
    "st.title(\"📊 Palworld MySQL Analytics Dashboard\")\n",
    "\n",
    "# Liste des tables\n",
    "tables = inspector.get_table_names()\n",
    "if not tables:\n",
    "    st.error(\"Aucune table trouvée dans la base.\")\n",
    "    st.stop()\n",
    "\n",
    "# Choix de la table\n",
    "table = st.sidebar.selectbox(\"📁 Choisir une table :\", tables)\n",
    "\n",
    "# Charger les données\n",
    "df = pd.read_sql(f\"SELECT * FROM {table}\", con=engine)\n",
    "\n",
    "st.header(f\"📄 Table : `{table}`\")\n",
    "\n",
    "# Filtre par recherche texte\n",
    "search_text = st.text_input(\"🔍 Filtrer les données (valeurs contenant...)\")\n",
    "if search_text:\n",
    "    df = df[df.astype(str).apply(lambda row: row.str.contains(search_text, case=False)).any(axis=1)]\n",
    "\n",
    "# Aperçu des données\n",
    "st.subheader(\"👁️‍🗨️ Aperçu des données\")\n",
    "st.dataframe(df.head(100), use_container_width=True)\n",
    "\n",
    "# Statistiques descriptives\n",
    "if not df.empty:\n",
    "    st.subheader(\"📈 Statistiques descriptives\")\n",
    "    st.dataframe(df.describe(include=\"all\").transpose(), use_container_width=True)\n",
    "\n",
    "    # Sélection de colonnes numériques pour graphiques\n",
    "    numeric_cols = df.select_dtypes(include=[\"int64\", \"float64\"]).columns.tolist()\n",
    "    if numeric_cols:\n",
    "        col_to_plot = st.selectbox(\"📊 Choisir une colonne numérique à visualiser :\", numeric_cols)\n",
    "\n",
    "        # Histogramme\n",
    "        fig, ax = plt.subplots()\n",
    "        sns.histplot(df[col_to_plot].dropna(), kde=True, ax=ax)\n",
    "        ax.set_title(f\"Distribution de `{col_to_plot}`\")\n",
    "        st.pyplot(fig)\n",
    "\n",
    "# Export CSV\n",
    "st.sidebar.markdown(\"---\")\n",
    "csv = df.to_csv(index=False).encode(\"utf-8\")\n",
    "st.sidebar.download_button(\n",
    "    label=\"📥 Télécharger CSV filtré\",\n",
    "    data=csv,\n",
    "    file_name=f\"{table}_filtered.csv\",\n",
    "    mime=\"text/csv\"\n",
    ")\n"
   ]
  },
  {
   "cell_type": "code",
   "execution_count": 21,
   "id": "0055d317-b8b5-4b6e-87bf-23c63f84568b",
   "metadata": {},
   "outputs": [
    {
     "ename": "SyntaxError",
     "evalue": "invalid syntax (2916666926.py, line 1)",
     "output_type": "error",
     "traceback": [
      "\u001b[1;36m  Cell \u001b[1;32mIn[21], line 1\u001b[1;36m\u001b[0m\n\u001b[1;33m    streamlit run C:\\Users\\yamsq\\anaconda3\\Lib\\site-packages\\ipykernel_launcher.py\u001b[0m\n\u001b[1;37m              ^\u001b[0m\n\u001b[1;31mSyntaxError\u001b[0m\u001b[1;31m:\u001b[0m invalid syntax\n"
     ]
    }
   ],
   "source": [
    "streamlit run C:\\Users\\yamsq\\anaconda3\\Lib\\site-packages\\ipykernel_launcher.py"
   ]
  },
  {
   "cell_type": "code",
   "execution_count": null,
   "id": "69cca9f3-9776-4e00-bea6-7a8a43781da5",
   "metadata": {},
   "outputs": [],
   "source": []
  }
 ],
 "metadata": {
  "kernelspec": {
   "display_name": "Python [conda env:base] *",
   "language": "python",
   "name": "conda-base-py"
  },
  "language_info": {
   "codemirror_mode": {
    "name": "ipython",
    "version": 3
   },
   "file_extension": ".py",
   "mimetype": "text/x-python",
   "name": "python",
   "nbconvert_exporter": "python",
   "pygments_lexer": "ipython3",
   "version": "3.12.7"
  }
 },
 "nbformat": 4,
 "nbformat_minor": 5
}
